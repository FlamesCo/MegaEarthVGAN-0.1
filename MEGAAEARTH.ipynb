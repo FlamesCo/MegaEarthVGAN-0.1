{
 "cells": [
  {
   "cell_type": "code",
   "execution_count": null,
   "metadata": {},
   "outputs": [],
   "source": [
    "## GENERATE CODE OF GPT2\n",
    "{\n",
    "    \"id\": \"gpt2\",\n",
    "    \"name\": \"GPT2\",\n",
    "    \"description\": \"Generative Pre-trained Text Model\",\n",
    "    \"type\": \"model\",\n",
    "    \"source\": \" python -m torch.hub import transformers as tfmr\",\n",
    "\n",
    "    \"inputs\": [ # inputs to the model (inputs to the code) (inputs to the code)\n",
    "    |{  \"name\": \"model_name\",\n",
    "        \"type\": \"string\",\n",
    "        \"description\": \"Model name\",\n",
    "        \"default\": \"gpt2\"\n",
    "    },\n",
    "}"
   ]
  },
  {
   "cell_type": "code",
   "execution_count": null,
   "metadata": {},
   "outputs": [],
   "source": [
    "## welcome to MEGAGANVEARTH 1.0\n",
    "*/\n",
    "## [CODE] [C] - Flames LLC\n",
    "# 20XX-XX-XX"
   ]
  },
  {
   "cell_type": "code",
   "execution_count": null,
   "metadata": {},
   "outputs": [],
   "source": [
    "## WRITE A GUI LIKE DALLE\n",
    "{ \"id\": \"gpt2_gui\",\n",
    "    \"name\": \"GPT2 GUI\", \n",
    "    \"description\": \"Generative Pre-trained Text Model\",\n",
    "    \"type\": \"gui\",\n",
    "    \"source\": \" python -m torch.hub import transformers as tfmr\",\n",
    "    \"inputs\": [ # inputs to the model (inputs to the code) (inputs to the code)\n",
    "    |{  \"name\": \"model_name\",\n",
    "        \"type\": \"string\",\n",
    "        \"description\": \"Model name\",\n",
    "        \"default\": \"gpt2\"\n",
    "    },"
   ]
  },
  {
   "cell_type": "code",
   "execution_count": null,
   "metadata": {},
   "outputs": [],
   "source": [
    "## WRITE A PROGRAM THAT USES GPT2 TO GENEERATE IMAGES\n",
    "{ \"id\": \"gpt2_generate\", # id of the program\n",
    "    \"name\": \"GPT2 Generate\", # name of the program\n",
    "    \"description\": \"Generative Pre-trained Text Model\", # description of the program\n",
    "    \"type\": \"program\", # type of the program\n",
    "    \"source\": \" python -m torch.hub import transformers as tfmr\", # source code of the program\n",
    "    \"inputs\": [ # inputs to the program (inputs to the code) (inputs to the code)\n",
    "    |{  \"name\": \"model_name\",\n",
    "        \"type\": \"string\",\n",
    "        \"description\": \"Model name\",\n",
    "        \"default\": \"gpt2\"\n",
    "    },"
   ]
  },
  {
   "cell_type": "markdown",
   "metadata": {},
   "source": []
  },
  {
   "cell_type": "code",
   "execution_count": null,
   "metadata": {},
   "outputs": [],
   "source": [
    "## generate a prompt select box\n",
    "{ \"id\": \"gpt2_prompt\",\n",
    "    \"name\": \"GPT2 Prompt\",\n",
    "    \"description\": \"Generative Pre-trained Text Model\",\n",
    "    \"type\": \"prompt\",\n",
    "    \"source\": \" python -m torch.hub import transformers as tfmr\",\n",
    "    \"inputs\": [ # inputs to the program (inputs to the code) (inputs to the code)\n",
    "    |{  \"name\": \"model_name\",\n",
    "        \"type\": \"string\",\n",
    "        \"description\": \"Model name\",\n",
    "        \"default\": \"gpt2\"\n",
    "    },"
   ]
  },
  {
   "cell_type": "code",
   "execution_count": null,
   "metadata": {},
   "outputs": [],
   "source": [
    "## generate a output png file with the generated text from a prompt\n",
    "{ \"id\": \"gpt2_output\",\n",
    "    \"name\": \"GPT2 Output\",\n",
    "    \"description\": \"Generative Pre-trained Text Model\",\n",
    "    png_file: = input(\"png_file\"),\"Enter the name of the png file: \")\n",
    "    \"type\": \"output\",\n",
    "    \"source\": \" python -m torch.hub import transformers as tfmr\",\n",
    "    ## input length width height\n",
    "    \"inputs\": [ # inputs to the program (inputs to the code) (inputs to the code)\n",
    "    |{  \"name\": \"model_name\",\n",
    "        \"type\": \"string\",\n",
    "        \"description\": \"Model name\",\n",
    "        \"default\": \"gpt2\"\n",
    "    },"
   ]
  }
 ],
 "metadata": {
  "language_info": {
   "name": "python"
  },
  "orig_nbformat": 4
 },
 "nbformat": 4,
 "nbformat_minor": 2
}
